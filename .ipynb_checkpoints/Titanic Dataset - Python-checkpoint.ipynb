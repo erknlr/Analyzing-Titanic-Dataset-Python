{
 "cells": [
  {
   "cell_type": "markdown",
   "metadata": {},
   "source": [
    "# Analyzing Titanic Dataset with Python"
   ]
  },
  {
   "cell_type": "markdown",
   "metadata": {},
   "source": [
    "I am interested in analyzing the **Titanic Dataset** and try to answer the following questions: \n",
    "\n",
    "- **Which age group had a better chance of surviving? Did any age group got any privilages in the evacuation?**\n",
    "\n",
    "- **Which gender had a better chance of surviving?**\n",
    "\n",
    "- **Did wellfare have any affect on the survival rate?**\n",
    "\n",
    "\n",
    "Let's start by importing all the necessary libraries for the project:"
   ]
  },
  {
   "cell_type": "code",
   "execution_count": 1,
   "metadata": {},
   "outputs": [
    {
     "name": "stdout",
     "output_type": "stream",
     "text": [
      "Populating the interactive namespace from numpy and matplotlib\n"
     ]
    }
   ],
   "source": [
    "import matplotlib.pyplot as plt\n",
    "import numpy as np\n",
    "import pandas as pd\n",
    "import seaborn as sns\n",
    "%pylab inline"
   ]
  },
  {
   "cell_type": "markdown",
   "metadata": {},
   "source": [
    "For the project I will use the titanic dataset so let's also import the csv file into our jupyter notebook"
   ]
  },
  {
   "cell_type": "code",
   "execution_count": 3,
   "metadata": {
    "collapsed": true
   },
   "outputs": [],
   "source": [
    "titanic_data = pd.read_csv('titanic-data.csv')"
   ]
  },
  {
   "cell_type": "markdown",
   "metadata": {},
   "source": [
    "Next, let's take a peek at the data set that we imported to come up with meaningful questions for analysis."
   ]
  },
  {
   "cell_type": "code",
   "execution_count": 4,
   "metadata": {},
   "outputs": [
    {
     "data": {
      "text/html": [
       "<div>\n",
       "<table border=\"1\" class=\"dataframe\">\n",
       "  <thead>\n",
       "    <tr style=\"text-align: right;\">\n",
       "      <th></th>\n",
       "      <th>PassengerId</th>\n",
       "      <th>Survived</th>\n",
       "      <th>Pclass</th>\n",
       "      <th>Name</th>\n",
       "      <th>Sex</th>\n",
       "      <th>Age</th>\n",
       "      <th>SibSp</th>\n",
       "      <th>Parch</th>\n",
       "      <th>Ticket</th>\n",
       "      <th>Fare</th>\n",
       "      <th>Cabin</th>\n",
       "      <th>Embarked</th>\n",
       "    </tr>\n",
       "  </thead>\n",
       "  <tbody>\n",
       "    <tr>\n",
       "      <th>0</th>\n",
       "      <td>1</td>\n",
       "      <td>0</td>\n",
       "      <td>3</td>\n",
       "      <td>Braund, Mr. Owen Harris</td>\n",
       "      <td>male</td>\n",
       "      <td>22.0</td>\n",
       "      <td>1</td>\n",
       "      <td>0</td>\n",
       "      <td>A/5 21171</td>\n",
       "      <td>7.2500</td>\n",
       "      <td>NaN</td>\n",
       "      <td>S</td>\n",
       "    </tr>\n",
       "    <tr>\n",
       "      <th>1</th>\n",
       "      <td>2</td>\n",
       "      <td>1</td>\n",
       "      <td>1</td>\n",
       "      <td>Cumings, Mrs. John Bradley (Florence Briggs Th...</td>\n",
       "      <td>female</td>\n",
       "      <td>38.0</td>\n",
       "      <td>1</td>\n",
       "      <td>0</td>\n",
       "      <td>PC 17599</td>\n",
       "      <td>71.2833</td>\n",
       "      <td>C85</td>\n",
       "      <td>C</td>\n",
       "    </tr>\n",
       "    <tr>\n",
       "      <th>2</th>\n",
       "      <td>3</td>\n",
       "      <td>1</td>\n",
       "      <td>3</td>\n",
       "      <td>Heikkinen, Miss. Laina</td>\n",
       "      <td>female</td>\n",
       "      <td>26.0</td>\n",
       "      <td>0</td>\n",
       "      <td>0</td>\n",
       "      <td>STON/O2. 3101282</td>\n",
       "      <td>7.9250</td>\n",
       "      <td>NaN</td>\n",
       "      <td>S</td>\n",
       "    </tr>\n",
       "    <tr>\n",
       "      <th>3</th>\n",
       "      <td>4</td>\n",
       "      <td>1</td>\n",
       "      <td>1</td>\n",
       "      <td>Futrelle, Mrs. Jacques Heath (Lily May Peel)</td>\n",
       "      <td>female</td>\n",
       "      <td>35.0</td>\n",
       "      <td>1</td>\n",
       "      <td>0</td>\n",
       "      <td>113803</td>\n",
       "      <td>53.1000</td>\n",
       "      <td>C123</td>\n",
       "      <td>S</td>\n",
       "    </tr>\n",
       "    <tr>\n",
       "      <th>4</th>\n",
       "      <td>5</td>\n",
       "      <td>0</td>\n",
       "      <td>3</td>\n",
       "      <td>Allen, Mr. William Henry</td>\n",
       "      <td>male</td>\n",
       "      <td>35.0</td>\n",
       "      <td>0</td>\n",
       "      <td>0</td>\n",
       "      <td>373450</td>\n",
       "      <td>8.0500</td>\n",
       "      <td>NaN</td>\n",
       "      <td>S</td>\n",
       "    </tr>\n",
       "    <tr>\n",
       "      <th>5</th>\n",
       "      <td>6</td>\n",
       "      <td>0</td>\n",
       "      <td>3</td>\n",
       "      <td>Moran, Mr. James</td>\n",
       "      <td>male</td>\n",
       "      <td>NaN</td>\n",
       "      <td>0</td>\n",
       "      <td>0</td>\n",
       "      <td>330877</td>\n",
       "      <td>8.4583</td>\n",
       "      <td>NaN</td>\n",
       "      <td>Q</td>\n",
       "    </tr>\n",
       "    <tr>\n",
       "      <th>6</th>\n",
       "      <td>7</td>\n",
       "      <td>0</td>\n",
       "      <td>1</td>\n",
       "      <td>McCarthy, Mr. Timothy J</td>\n",
       "      <td>male</td>\n",
       "      <td>54.0</td>\n",
       "      <td>0</td>\n",
       "      <td>0</td>\n",
       "      <td>17463</td>\n",
       "      <td>51.8625</td>\n",
       "      <td>E46</td>\n",
       "      <td>S</td>\n",
       "    </tr>\n",
       "    <tr>\n",
       "      <th>7</th>\n",
       "      <td>8</td>\n",
       "      <td>0</td>\n",
       "      <td>3</td>\n",
       "      <td>Palsson, Master. Gosta Leonard</td>\n",
       "      <td>male</td>\n",
       "      <td>2.0</td>\n",
       "      <td>3</td>\n",
       "      <td>1</td>\n",
       "      <td>349909</td>\n",
       "      <td>21.0750</td>\n",
       "      <td>NaN</td>\n",
       "      <td>S</td>\n",
       "    </tr>\n",
       "    <tr>\n",
       "      <th>8</th>\n",
       "      <td>9</td>\n",
       "      <td>1</td>\n",
       "      <td>3</td>\n",
       "      <td>Johnson, Mrs. Oscar W (Elisabeth Vilhelmina Berg)</td>\n",
       "      <td>female</td>\n",
       "      <td>27.0</td>\n",
       "      <td>0</td>\n",
       "      <td>2</td>\n",
       "      <td>347742</td>\n",
       "      <td>11.1333</td>\n",
       "      <td>NaN</td>\n",
       "      <td>S</td>\n",
       "    </tr>\n",
       "    <tr>\n",
       "      <th>9</th>\n",
       "      <td>10</td>\n",
       "      <td>1</td>\n",
       "      <td>2</td>\n",
       "      <td>Nasser, Mrs. Nicholas (Adele Achem)</td>\n",
       "      <td>female</td>\n",
       "      <td>14.0</td>\n",
       "      <td>1</td>\n",
       "      <td>0</td>\n",
       "      <td>237736</td>\n",
       "      <td>30.0708</td>\n",
       "      <td>NaN</td>\n",
       "      <td>C</td>\n",
       "    </tr>\n",
       "  </tbody>\n",
       "</table>\n",
       "</div>"
      ],
      "text/plain": [
       "   PassengerId  Survived  Pclass  \\\n",
       "0            1         0       3   \n",
       "1            2         1       1   \n",
       "2            3         1       3   \n",
       "3            4         1       1   \n",
       "4            5         0       3   \n",
       "5            6         0       3   \n",
       "6            7         0       1   \n",
       "7            8         0       3   \n",
       "8            9         1       3   \n",
       "9           10         1       2   \n",
       "\n",
       "                                                Name     Sex   Age  SibSp  \\\n",
       "0                            Braund, Mr. Owen Harris    male  22.0      1   \n",
       "1  Cumings, Mrs. John Bradley (Florence Briggs Th...  female  38.0      1   \n",
       "2                             Heikkinen, Miss. Laina  female  26.0      0   \n",
       "3       Futrelle, Mrs. Jacques Heath (Lily May Peel)  female  35.0      1   \n",
       "4                           Allen, Mr. William Henry    male  35.0      0   \n",
       "5                                   Moran, Mr. James    male   NaN      0   \n",
       "6                            McCarthy, Mr. Timothy J    male  54.0      0   \n",
       "7                     Palsson, Master. Gosta Leonard    male   2.0      3   \n",
       "8  Johnson, Mrs. Oscar W (Elisabeth Vilhelmina Berg)  female  27.0      0   \n",
       "9                Nasser, Mrs. Nicholas (Adele Achem)  female  14.0      1   \n",
       "\n",
       "   Parch            Ticket     Fare Cabin Embarked  \n",
       "0      0         A/5 21171   7.2500   NaN        S  \n",
       "1      0          PC 17599  71.2833   C85        C  \n",
       "2      0  STON/O2. 3101282   7.9250   NaN        S  \n",
       "3      0            113803  53.1000  C123        S  \n",
       "4      0            373450   8.0500   NaN        S  \n",
       "5      0            330877   8.4583   NaN        Q  \n",
       "6      0             17463  51.8625   E46        S  \n",
       "7      1            349909  21.0750   NaN        S  \n",
       "8      2            347742  11.1333   NaN        S  \n",
       "9      0            237736  30.0708   NaN        C  "
      ]
     },
     "execution_count": 4,
     "metadata": {},
     "output_type": "execute_result"
    }
   ],
   "source": [
    "titanic_data.head(n = 10)"
   ]
  },
  {
   "cell_type": "markdown",
   "metadata": {},
   "source": [
    "Before we start investing hypotheses, it makes sense to check for NULL values in the columns "
   ]
  },
  {
   "cell_type": "code",
   "execution_count": 5,
   "metadata": {
    "scrolled": true
   },
   "outputs": [
    {
     "name": "stdout",
     "output_type": "stream",
     "text": [
      "PassengerId    False\n",
      "Survived       False\n",
      "Pclass         False\n",
      "Name           False\n",
      "Sex            False\n",
      "Age             True\n",
      "SibSp          False\n",
      "Parch          False\n",
      "Ticket         False\n",
      "Fare           False\n",
      "Cabin           True\n",
      "Embarked        True\n",
      "dtype: bool\n"
     ]
    }
   ],
   "source": [
    "print(titanic_data.isnull().any())"
   ]
  },
  {
   "cell_type": "markdown",
   "metadata": {},
   "source": [
    "\n",
    "As can be seen from the code above, the columns '**Age**', '**Cabin**' and '**Embarked**' have NULL values. Once working on the dataset, we have to be careful if we are using those columns. Below are the number of NULL values per columns:"
   ]
  },
  {
   "cell_type": "code",
   "execution_count": 6,
   "metadata": {},
   "outputs": [
    {
     "name": "stdout",
     "output_type": "stream",
     "text": [
      "Number of NULL values in Age column: 177\n",
      "Number of NULL values in Cabin column: 687 \n",
      "Number of NULL values in Embarked column: 2\n"
     ]
    }
   ],
   "source": [
    "print('Number of NULL values in Age column: %d' %sum(pd.isnull(titanic_data['Age'])))\n",
    "print('Number of NULL values in Cabin column: %d ' %sum(pd.isnull(titanic_data['Cabin'])))\n",
    "print('Number of NULL values in Embarked column: %d' %sum(pd.isnull(titanic_data['Embarked'])))"
   ]
  },
  {
   "cell_type": "markdown",
   "metadata": {},
   "source": [
    "## Hypothesis 1 - Age vs. Survival Rate"
   ]
  },
  {
   "cell_type": "markdown",
   "metadata": {
    "collapsed": true
   },
   "source": [
    "First thing I would like to investigate is the survival rate among different age groups. So my dependent variable will be survival rate and my independent variable will be the age groups. \n",
    "\n",
    "I am especially interested in seeing whether the children (0 - 18 years) and elderly (65 or above) received any privileges in the evacuation, resulting in higher survival rates.\n",
    "I will first build the following age groups among passengers:\n",
    "\n",
    "- 0 - 18 years\n",
    "- 19 - 25 years\n",
    "- 26 - 35 years\n",
    "- 36 - 45 years\n",
    "- 46 - 55 years\n",
    "- 56 - 65 years\n",
    "- 65 or above.\n",
    "\n",
    "For this purpose let's first create a **age_group** function that would allocate ages to the above specified age groups:"
   ]
  },
  {
   "cell_type": "code",
   "execution_count": 7,
   "metadata": {
    "collapsed": true
   },
   "outputs": [],
   "source": [
    "def age_groups(age):\n",
    "    if age >= 65:\n",
    "        return('65 or above')\n",
    "    elif age > 55:\n",
    "        return('56 - 65 years')\n",
    "    elif age > 45:\n",
    "        return('46 - 55 years')\n",
    "    elif age > 35:\n",
    "        return('36 - 45 years')\n",
    "    elif age > 25:\n",
    "        return('26 - 35 years')\n",
    "    elif age > 18:\n",
    "        return('19 - 25 years')\n",
    "    elif age > 0:\n",
    "        return('0 - 18 years')\n",
    "    else:\n",
    "        return(None)"
   ]
  },
  {
   "cell_type": "markdown",
   "metadata": {},
   "source": [
    "As next, let's create a new column called '**Age_group**' and populate it with the **age_group** function by using it in an apply function."
   ]
  },
  {
   "cell_type": "code",
   "execution_count": 8,
   "metadata": {
    "collapsed": true
   },
   "outputs": [],
   "source": [
    "titanic_data['Age_group'] = titanic_data['Age'].apply(age_groups)"
   ]
  },
  {
   "cell_type": "markdown",
   "metadata": {},
   "source": [
    "Let's take a look at our dataframe to see whether the new column was created succesfully:"
   ]
  },
  {
   "cell_type": "code",
   "execution_count": 9,
   "metadata": {},
   "outputs": [
    {
     "data": {
      "text/html": [
       "<div>\n",
       "<table border=\"1\" class=\"dataframe\">\n",
       "  <thead>\n",
       "    <tr style=\"text-align: right;\">\n",
       "      <th></th>\n",
       "      <th>PassengerId</th>\n",
       "      <th>Survived</th>\n",
       "      <th>Pclass</th>\n",
       "      <th>Name</th>\n",
       "      <th>Sex</th>\n",
       "      <th>Age</th>\n",
       "      <th>SibSp</th>\n",
       "      <th>Parch</th>\n",
       "      <th>Ticket</th>\n",
       "      <th>Fare</th>\n",
       "      <th>Cabin</th>\n",
       "      <th>Embarked</th>\n",
       "      <th>Age_group</th>\n",
       "    </tr>\n",
       "  </thead>\n",
       "  <tbody>\n",
       "    <tr>\n",
       "      <th>0</th>\n",
       "      <td>1</td>\n",
       "      <td>0</td>\n",
       "      <td>3</td>\n",
       "      <td>Braund, Mr. Owen Harris</td>\n",
       "      <td>male</td>\n",
       "      <td>22.0</td>\n",
       "      <td>1</td>\n",
       "      <td>0</td>\n",
       "      <td>A/5 21171</td>\n",
       "      <td>7.2500</td>\n",
       "      <td>NaN</td>\n",
       "      <td>S</td>\n",
       "      <td>19 - 25 years</td>\n",
       "    </tr>\n",
       "    <tr>\n",
       "      <th>1</th>\n",
       "      <td>2</td>\n",
       "      <td>1</td>\n",
       "      <td>1</td>\n",
       "      <td>Cumings, Mrs. John Bradley (Florence Briggs Th...</td>\n",
       "      <td>female</td>\n",
       "      <td>38.0</td>\n",
       "      <td>1</td>\n",
       "      <td>0</td>\n",
       "      <td>PC 17599</td>\n",
       "      <td>71.2833</td>\n",
       "      <td>C85</td>\n",
       "      <td>C</td>\n",
       "      <td>36 - 45 years</td>\n",
       "    </tr>\n",
       "    <tr>\n",
       "      <th>2</th>\n",
       "      <td>3</td>\n",
       "      <td>1</td>\n",
       "      <td>3</td>\n",
       "      <td>Heikkinen, Miss. Laina</td>\n",
       "      <td>female</td>\n",
       "      <td>26.0</td>\n",
       "      <td>0</td>\n",
       "      <td>0</td>\n",
       "      <td>STON/O2. 3101282</td>\n",
       "      <td>7.9250</td>\n",
       "      <td>NaN</td>\n",
       "      <td>S</td>\n",
       "      <td>26 - 35 years</td>\n",
       "    </tr>\n",
       "    <tr>\n",
       "      <th>3</th>\n",
       "      <td>4</td>\n",
       "      <td>1</td>\n",
       "      <td>1</td>\n",
       "      <td>Futrelle, Mrs. Jacques Heath (Lily May Peel)</td>\n",
       "      <td>female</td>\n",
       "      <td>35.0</td>\n",
       "      <td>1</td>\n",
       "      <td>0</td>\n",
       "      <td>113803</td>\n",
       "      <td>53.1000</td>\n",
       "      <td>C123</td>\n",
       "      <td>S</td>\n",
       "      <td>26 - 35 years</td>\n",
       "    </tr>\n",
       "    <tr>\n",
       "      <th>4</th>\n",
       "      <td>5</td>\n",
       "      <td>0</td>\n",
       "      <td>3</td>\n",
       "      <td>Allen, Mr. William Henry</td>\n",
       "      <td>male</td>\n",
       "      <td>35.0</td>\n",
       "      <td>0</td>\n",
       "      <td>0</td>\n",
       "      <td>373450</td>\n",
       "      <td>8.0500</td>\n",
       "      <td>NaN</td>\n",
       "      <td>S</td>\n",
       "      <td>26 - 35 years</td>\n",
       "    </tr>\n",
       "  </tbody>\n",
       "</table>\n",
       "</div>"
      ],
      "text/plain": [
       "   PassengerId  Survived  Pclass  \\\n",
       "0            1         0       3   \n",
       "1            2         1       1   \n",
       "2            3         1       3   \n",
       "3            4         1       1   \n",
       "4            5         0       3   \n",
       "\n",
       "                                                Name     Sex   Age  SibSp  \\\n",
       "0                            Braund, Mr. Owen Harris    male  22.0      1   \n",
       "1  Cumings, Mrs. John Bradley (Florence Briggs Th...  female  38.0      1   \n",
       "2                             Heikkinen, Miss. Laina  female  26.0      0   \n",
       "3       Futrelle, Mrs. Jacques Heath (Lily May Peel)  female  35.0      1   \n",
       "4                           Allen, Mr. William Henry    male  35.0      0   \n",
       "\n",
       "   Parch            Ticket     Fare Cabin Embarked      Age_group  \n",
       "0      0         A/5 21171   7.2500   NaN        S  19 - 25 years  \n",
       "1      0          PC 17599  71.2833   C85        C  36 - 45 years  \n",
       "2      0  STON/O2. 3101282   7.9250   NaN        S  26 - 35 years  \n",
       "3      0            113803  53.1000  C123        S  26 - 35 years  \n",
       "4      0            373450   8.0500   NaN        S  26 - 35 years  "
      ]
     },
     "execution_count": 9,
     "metadata": {},
     "output_type": "execute_result"
    }
   ],
   "source": [
    "titanic_data.head()"
   ]
  },
  {
   "cell_type": "markdown",
   "metadata": {},
   "source": [
    "So, everything seems to be ok. As next, I will create a new dataframe which will cleary illustrate the survival rates of different age groups. For that I will use the different age groups as index in my new dataframe and drop the NULL values:"
   ]
  },
  {
   "cell_type": "code",
   "execution_count": 10,
   "metadata": {
    "collapsed": true
   },
   "outputs": [],
   "source": [
    "titanic_survival_rate = pd.DataFrame(index = [titanic_data.Age_group.dropna().unique()])"
   ]
  },
  {
   "cell_type": "markdown",
   "metadata": {},
   "source": [
    "As next, I would like to create a new column where I will show the total passenger counts in each age group:"
   ]
  },
  {
   "cell_type": "code",
   "execution_count": 11,
   "metadata": {
    "collapsed": true
   },
   "outputs": [],
   "source": [
    "titanic_survival_rate['Total'] = titanic_data.groupby('Age_group')['PassengerId'].count() "
   ]
  },
  {
   "cell_type": "markdown",
   "metadata": {},
   "source": [
    "The next step is to show the number of survivors in each age group:"
   ]
  },
  {
   "cell_type": "code",
   "execution_count": 12,
   "metadata": {
    "collapsed": true
   },
   "outputs": [],
   "source": [
    "titanic_survival_rate['Survivors'] = titanic_data.groupby('Age_group')['Survived'].sum()"
   ]
  },
  {
   "cell_type": "markdown",
   "metadata": {},
   "source": [
    "The last step is to calculate the survival ratio based on the two columns I just created:"
   ]
  },
  {
   "cell_type": "code",
   "execution_count": 13,
   "metadata": {
    "collapsed": true
   },
   "outputs": [],
   "source": [
    "titanic_survival_rate['Survival_ratio'] = titanic_survival_rate['Survivors'] / titanic_survival_rate['Total']"
   ]
  },
  {
   "cell_type": "markdown",
   "metadata": {},
   "source": [
    "Now let's take a look at our new table:"
   ]
  },
  {
   "cell_type": "code",
   "execution_count": 14,
   "metadata": {},
   "outputs": [
    {
     "name": "stdout",
     "output_type": "stream",
     "text": [
      "               Total  Survivors  Survival_ratio\n",
      "0 - 18 years     139         70        0.503597\n",
      "26 - 35 years    196         83        0.423469\n",
      "46 - 55 years     63         26        0.412698\n",
      "36 - 45 years    114         45        0.394737\n",
      "56 - 65 years     29         11        0.379310\n",
      "19 - 25 years    162         54        0.333333\n",
      "65 or above       11          1        0.090909\n"
     ]
    }
   ],
   "source": [
    "print(titanic_survival_rate.sort_values(by = 'Survival_ratio', ascending = False))"
   ]
  },
  {
   "cell_type": "markdown",
   "metadata": {},
   "source": [
    "Taking it one step further, I would like to visualize the survival rates of different age groups: "
   ]
  },
  {
   "cell_type": "code",
   "execution_count": 15,
   "metadata": {
    "scrolled": true
   },
   "outputs": [
    {
     "data": {
      "text/plain": [
       "([<matplotlib.axis.YTick at 0x10e423910>,\n",
       "  <matplotlib.axis.YTick at 0x10e40ce50>,\n",
       "  <matplotlib.axis.YTick at 0x10e2c10d0>,\n",
       "  <matplotlib.axis.YTick at 0x10e2c1610>,\n",
       "  <matplotlib.axis.YTick at 0x10e2c1c10>,\n",
       "  <matplotlib.axis.YTick at 0x10e2c9390>,\n",
       "  <matplotlib.axis.YTick at 0x10e40cf90>],\n",
       " <a list of 7 Text yticklabel objects>)"
      ]
     },
     "execution_count": 15,
     "metadata": {},
     "output_type": "execute_result"
    },
    {
     "data": {
      "image/png": "[encoded data removed]",
      "text/plain": [
       "<matplotlib.figure.Figure at 0x103e30b90>"
      ]
     },
     "metadata": {},
     "output_type": "display_data"
    }
   ],
   "source": [
    "p3 = plt.bar(np.arange(len(titanic_survival_rate.index)), titanic_survival_rate.Survival_ratio,  width=.50, color = 'yellowgreen', alpha = 0.7)\n",
    "\n",
    "plt.ylabel('Survival Rate')\n",
    "plt.xlabel('Age groups')\n",
    "plt.title('Survival Rates Among Age Groups')\n",
    "plt.xticks(np.arange(len(titanic_survival_rate.index))+ 0.25, (titanic_survival_rate.index), rotation=45, fontsize=10)\n",
    "plt.yticks(np.arange(0, 0.7, 0.1))\n"
   ]
  },
  {
   "cell_type": "markdown",
   "metadata": {},
   "source": [
    "As can be seen from the chart or table above, the 65 or above age group has actually been the least fortunate in terms of survivel rate (although their numbers as a group are really low). However, there is strong evidence that the 0 - 18 years age group got some sort of privilage in the evacuation as they have clearly higher survival rate than the rest.  \n",
    "\n",
    "As the last step, I would like to take a look at the mean age of the 0 - 18 years group to see if their survivel rate depended on their own skill rather than having a privilage:"
   ]
  },
  {
   "cell_type": "code",
   "execution_count": 16,
   "metadata": {},
   "outputs": [
    {
     "name": "stdout",
     "output_type": "stream",
     "text": [
      "Average age of 0 - 18 years group: 10.717050\n"
     ]
    }
   ],
   "source": [
    "print('Average age of 0 - 18 years group: %f' %titanic_data[titanic_data['Age_group'] == '0 - 18 years']['Age'].mean())"
   ]
  },
  {
   "cell_type": "markdown",
   "metadata": {},
   "source": [
    "So with an average age of approx. 11, it is very unlikely that this age group managed to survive on their own survival skills."
   ]
  },
  {
   "cell_type": "markdown",
   "metadata": {},
   "source": [
    "## Hypothesis 2 - Wellfare vs. Survival Rate"
   ]
  },
  {
   "cell_type": "markdown",
   "metadata": {
    "collapsed": true
   },
   "source": [
    "The second hypothesis that I would like to examine is whether there was any relationship between wellfare of the passangers and their survival rate. For that I will assume the ticket classes being as indicator of wellfare (although one can argue against it) and check whether the survival rate increases as we go towards first class. My independent variable for this hypothesis is the ticket class and my dependent variable is the survival rate.\n",
    "\n",
    "We already know that there are no NULL values in the Pclass column, so we can use the entire data. First thing I want to do is see how many people each ticket class have:"
   ]
  },
  {
   "cell_type": "code",
   "execution_count": 17,
   "metadata": {},
   "outputs": [
    {
     "name": "stdout",
     "output_type": "stream",
     "text": [
      "Pclass\n",
      "1    216\n",
      "2    184\n",
      "3    491\n",
      "Name: PassengerId, dtype: int64\n"
     ]
    }
   ],
   "source": [
    "print(titanic_data.groupby('Pclass')['PassengerId'].count())"
   ]
  },
  {
   "cell_type": "markdown",
   "metadata": {},
   "source": [
    "So we have enough people in each ticket class although we have majority as expected in the cheapest ticket class.\n",
    "As next, let's see how many people survived from each ticket class:"
   ]
  },
  {
   "cell_type": "code",
   "execution_count": 18,
   "metadata": {},
   "outputs": [
    {
     "name": "stdout",
     "output_type": "stream",
     "text": [
      "Pclass\n",
      "1    136\n",
      "2     87\n",
      "3    119\n",
      "Name: Survived, dtype: int64\n"
     ]
    }
   ],
   "source": [
    "print(titanic_data.groupby('Pclass')['Survived'].sum())"
   ]
  },
  {
   "cell_type": "markdown",
   "metadata": {},
   "source": [
    "Just looking at the number of survivors and number of total people in each class, we can see right away that the first class had higher survival rates but I want to go ahead and calculate the exact survival rate and store it in a new variable so I can use it to visualize the data later:  "
   ]
  },
  {
   "cell_type": "code",
   "execution_count": 19,
   "metadata": {},
   "outputs": [
    {
     "name": "stdout",
     "output_type": "stream",
     "text": [
      "Pclass\n",
      "1    0.629630\n",
      "2    0.472826\n",
      "3    0.242363\n",
      "dtype: float64\n"
     ]
    }
   ],
   "source": [
    "Survival_among_ticket_class = titanic_data.groupby('Pclass')['Survived'].sum() / titanic_data.groupby('Pclass')['PassengerId'].count()\n",
    "print(Survival_among_ticket_class)"
   ]
  },
  {
   "cell_type": "markdown",
   "metadata": {},
   "source": [
    "Now I would like to also see the non-survival rates among each ticket class. This is fairly easy to calculate since we know the survival rates:"
   ]
  },
  {
   "cell_type": "code",
   "execution_count": 20,
   "metadata": {},
   "outputs": [
    {
     "name": "stdout",
     "output_type": "stream",
     "text": [
      "Pclass\n",
      "1    0.370370\n",
      "2    0.527174\n",
      "3    0.757637\n",
      "dtype: float64\n"
     ]
    }
   ],
   "source": [
    "Non_survival_among_ticket_class = 1 - Survival_among_ticket_class\n",
    "print(Non_survival_among_ticket_class)"
   ]
  },
  {
   "cell_type": "markdown",
   "metadata": {},
   "source": [
    "Now let's visualize the survival/non-survival rates, using matplotlib:"
   ]
  },
  {
   "cell_type": "code",
   "execution_count": 21,
   "metadata": {},
   "outputs": [
    {
     "data": {
      "text/plain": [
       "<matplotlib.legend.Legend at 0x10e57cd90>"
      ]
     },
     "execution_count": 21,
     "metadata": {},
     "output_type": "execute_result"
    },
    {
     "data": {
      "image/png": "[encoded data removed]",
      "text/plain": [
       "<matplotlib.figure.Figure at 0x10def9e50>"
      ]
     },
     "metadata": {},
     "output_type": "display_data"
    }
   ],
   "source": [
    "\n",
    "p2 = plt.bar(np.arange(len(Non_survival_among_ticket_class)), Non_survival_among_ticket_class, width=.50, color = 'lightcoral', alpha=0.7)\n",
    "p1 = plt.bar(np.arange(len(Survival_among_ticket_class)), Survival_among_ticket_class, width=.50, bottom = Non_survival_among_ticket_class, color = 'yellowgreen', alpha = 0.7)\n",
    "\n",
    "plt.ylabel('Ratio')\n",
    "plt.xlabel('Ticket Classes of Passengers')\n",
    "plt.title('Survival Rates Among Classes')\n",
    "plt.xticks(np.arange(len(Survival_among_ticket_class)) + 0.25, ('1st Class', '2nd Class', '3rd Class'))\n",
    "plt.yticks(np.arange(0, 1.1, 0.1))\n",
    "plt.legend((p1[0], p2[0]), ('Survived', 'Did not survive'), loc = 'best', bbox_to_anchor=(1, 0.5))"
   ]
  },
  {
   "cell_type": "markdown",
   "metadata": {},
   "source": [
    "As can be seen from the chart, the survival rate went higher as the ticket class got better. As one last step, let's calcualte the general survival rate among our data set:"
   ]
  },
  {
   "cell_type": "code",
   "execution_count": 22,
   "metadata": {},
   "outputs": [
    {
     "name": "stdout",
     "output_type": "stream",
     "text": [
      "0.383838383838\n"
     ]
    }
   ],
   "source": [
    "print(float(titanic_data['Survived'].sum()) / titanic_data['PassengerId'].count())"
   ]
  },
  {
   "cell_type": "markdown",
   "metadata": {},
   "source": [
    "We see that 1st class tickets owners with approx. 63% survival rate are way higher than the average 38% survival rate. On the contrary, the 3rd class ticket owners are way lower than average with only 24% survival rate."
   ]
  },
  {
   "cell_type": "markdown",
   "metadata": {},
   "source": [
    "### Hypothesis 3 - Gender & Age vs. Survival Rate"
   ]
  },
  {
   "cell_type": "markdown",
   "metadata": {},
   "source": [
    "As last, I would like to see whether the gender had any effect on the survival rate. I will then take this one step further and combine gender with age groups to see how different genders in each age group fared.\n",
    "\n",
    "As first, I would like to see what percentage of the passengers were females/males:"
   ]
  },
  {
   "cell_type": "code",
   "execution_count": 23,
   "metadata": {},
   "outputs": [
    {
     "name": "stdout",
     "output_type": "stream",
     "text": [
      "Number of male in this data sample: 577\n",
      "Number of female in this data sample: 314\n"
     ]
    }
   ],
   "source": [
    "print('Number of male in this data sample: %d' %titanic_data[titanic_data['Sex'] == 'male']['PassengerId'].count())\n",
    "print('Number of female in this data sample: %d' %titanic_data[titanic_data['Sex'] == 'female']['PassengerId'].count())"
   ]
  },
  {
   "cell_type": "markdown",
   "metadata": {},
   "source": [
    "This yields the following ratio among genders:"
   ]
  },
  {
   "cell_type": "code",
   "execution_count": 24,
   "metadata": {},
   "outputs": [
    {
     "data": {
      "image/png": "[encoded data removed]",
      "text/plain": [
       "<matplotlib.figure.Figure at 0x10def9e90>"
      ]
     },
     "metadata": {},
     "output_type": "display_data"
    }
   ],
   "source": [
    "labels = ['Male', 'Female']\n",
    "sizes = [titanic_data[titanic_data['Sex'] == 'male']['PassengerId'].count(), titanic_data[titanic_data['Sex'] == 'female']['PassengerId'].count()]\n",
    "colors = ['yellowgreen', 'gold']\n",
    "plt.pie(sizes, colors=colors, autopct='%1.0f%%', startangle=90)\n",
    "plt.legend(labels, loc=\"best\")\n",
    "# Set aspect ratio to be equal so that pie is drawn as a circle.\n",
    "plt.axis('equal')\n",
    "plt.title('Gender Ratio Among Passengers')\n",
    "plt.tight_layout()"
   ]
  },
  {
   "cell_type": "markdown",
   "metadata": {},
   "source": [
    "Now as next, let's examine what percentage of males and females survived the titanic:"
   ]
  },
  {
   "cell_type": "code",
   "execution_count": 25,
   "metadata": {},
   "outputs": [
    {
     "name": "stdout",
     "output_type": "stream",
     "text": [
      "Percentage of male survivors: 0.188908145581\n",
      "Percentage of female survivors: 0.742038216561\n"
     ]
    }
   ],
   "source": [
    "print('Percentage of male survivors: '+ str(float(titanic_data[titanic_data['Sex'] == 'male']['Survived'].sum()) / titanic_data[titanic_data['Sex'] == 'male']['PassengerId'].count()))\n",
    "print('Percentage of female survivors: '+ str(float(titanic_data[titanic_data['Sex'] == 'female']['Survived'].sum()) / titanic_data[titanic_data['Sex'] == 'female']['PassengerId'].count()))"
   ]
  },
  {
   "cell_type": "markdown",
   "metadata": {},
   "source": [
    "There is a vast difference of survival rates between males and females. Now, let's take this one step further and examine the survival rates of genders across age groups that we built previously. For this purpose, I will use the **titanic_survival_rate** table that I built earlier and add simply two more columns for male & female survival ratio:"
   ]
  },
  {
   "cell_type": "code",
   "execution_count": 26,
   "metadata": {
    "collapsed": true
   },
   "outputs": [],
   "source": [
    "titanic_survival_rate['Male_survival_ratio'] = titanic_data[titanic_data['Sex'] == 'male'].groupby('Age_group')['Survived'].sum() /  titanic_data[titanic_data['Sex'] == 'male'].groupby('Age_group')['PassengerId'].count()\n",
    "titanic_survival_rate['Female_survival_ratio'] = titanic_data[titanic_data['Sex'] == 'female'].groupby('Age_group')['Survived'].sum() /  titanic_data[titanic_data['Sex'] == 'female'].groupby('Age_group')['PassengerId'].count()"
   ]
  },
  {
   "cell_type": "markdown",
   "metadata": {},
   "source": [
    "Now, let's take a look at our updated table to see if everything is ok:"
   ]
  },
  {
   "cell_type": "code",
   "execution_count": 27,
   "metadata": {},
   "outputs": [
    {
     "data": {
      "text/html": [
       "<div>\n",
       "<table border=\"1\" class=\"dataframe\">\n",
       "  <thead>\n",
       "    <tr style=\"text-align: right;\">\n",
       "      <th></th>\n",
       "      <th>Total</th>\n",
       "      <th>Survivors</th>\n",
       "      <th>Survival_ratio</th>\n",
       "      <th>Male_survival_ratio</th>\n",
       "      <th>Female_survival_ratio</th>\n",
       "    </tr>\n",
       "  </thead>\n",
       "  <tbody>\n",
       "    <tr>\n",
       "      <th>19 - 25 years</th>\n",
       "      <td>162</td>\n",
       "      <td>54</td>\n",
       "      <td>0.333333</td>\n",
       "      <td>0.120370</td>\n",
       "      <td>0.759259</td>\n",
       "    </tr>\n",
       "    <tr>\n",
       "      <th>36 - 45 years</th>\n",
       "      <td>114</td>\n",
       "      <td>45</td>\n",
       "      <td>0.394737</td>\n",
       "      <td>0.197183</td>\n",
       "      <td>0.720930</td>\n",
       "    </tr>\n",
       "    <tr>\n",
       "      <th>26 - 35 years</th>\n",
       "      <td>196</td>\n",
       "      <td>83</td>\n",
       "      <td>0.423469</td>\n",
       "      <td>0.230769</td>\n",
       "      <td>0.803030</td>\n",
       "    </tr>\n",
       "    <tr>\n",
       "      <th>46 - 55 years</th>\n",
       "      <td>63</td>\n",
       "      <td>26</td>\n",
       "      <td>0.412698</td>\n",
       "      <td>0.190476</td>\n",
       "      <td>0.857143</td>\n",
       "    </tr>\n",
       "    <tr>\n",
       "      <th>0 - 18 years</th>\n",
       "      <td>139</td>\n",
       "      <td>70</td>\n",
       "      <td>0.503597</td>\n",
       "      <td>0.338028</td>\n",
       "      <td>0.676471</td>\n",
       "    </tr>\n",
       "    <tr>\n",
       "      <th>56 - 65 years</th>\n",
       "      <td>29</td>\n",
       "      <td>11</td>\n",
       "      <td>0.379310</td>\n",
       "      <td>0.150000</td>\n",
       "      <td>0.888889</td>\n",
       "    </tr>\n",
       "    <tr>\n",
       "      <th>65 or above</th>\n",
       "      <td>11</td>\n",
       "      <td>1</td>\n",
       "      <td>0.090909</td>\n",
       "      <td>0.090909</td>\n",
       "      <td>NaN</td>\n",
       "    </tr>\n",
       "  </tbody>\n",
       "</table>\n",
       "</div>"
      ],
      "text/plain": [
       "               Total  Survivors  Survival_ratio  Male_survival_ratio  \\\n",
       "19 - 25 years    162         54        0.333333             0.120370   \n",
       "36 - 45 years    114         45        0.394737             0.197183   \n",
       "26 - 35 years    196         83        0.423469             0.230769   \n",
       "46 - 55 years     63         26        0.412698             0.190476   \n",
       "0 - 18 years     139         70        0.503597             0.338028   \n",
       "56 - 65 years     29         11        0.379310             0.150000   \n",
       "65 or above       11          1        0.090909             0.090909   \n",
       "\n",
       "               Female_survival_ratio  \n",
       "19 - 25 years               0.759259  \n",
       "36 - 45 years               0.720930  \n",
       "26 - 35 years               0.803030  \n",
       "46 - 55 years               0.857143  \n",
       "0 - 18 years                0.676471  \n",
       "56 - 65 years               0.888889  \n",
       "65 or above                      NaN  "
      ]
     },
     "execution_count": 27,
     "metadata": {},
     "output_type": "execute_result"
    }
   ],
   "source": [
    "titanic_survival_rate"
   ]
  },
  {
   "cell_type": "markdown",
   "metadata": {},
   "source": [
    "The table seems to be properly expanded. However there are no female passengers that are 65 years old or older, so we have a NULL value for this group. Once making the comparison, it makes sense to exclude this age group:"
   ]
  },
  {
   "cell_type": "code",
   "execution_count": 28,
   "metadata": {
    "collapsed": true
   },
   "outputs": [],
   "source": [
    "titanic_survival_rate_corrected = titanic_survival_rate.drop('65 or above')"
   ]
  },
  {
   "cell_type": "markdown",
   "metadata": {},
   "source": [
    "Now we can use this table to visualize the survival rates across age groups"
   ]
  },
  {
   "cell_type": "code",
   "execution_count": 29,
   "metadata": {},
   "outputs": [
    {
     "data": {
      "image/png": "[encoded data removed]",
      "text/plain": [
       "<matplotlib.figure.Figure at 0x10e1d3490>"
      ]
     },
     "metadata": {},
     "output_type": "display_data"
    }
   ],
   "source": [
    "\n",
    "male_ratio = (titanic_survival_rate_corrected['Male_survival_ratio'].values)\n",
    "\n",
    "female_ratio = (titanic_survival_rate_corrected['Female_survival_ratio'].values)\n",
    "\n",
    "\n",
    "fig, ax = plt.subplots()\n",
    "\n",
    "index = np.arange(len(titanic_survival_rate_corrected))\n",
    "bar_width = 0.35\n",
    "\n",
    "\n",
    "rects1 = plt.bar(index, male_ratio, bar_width,\n",
    "                 alpha=0.7,\n",
    "                 color='gold',\n",
    "                 yerr=0,\n",
    "                 label='Men')\n",
    "\n",
    "rects2 = plt.bar(index + bar_width, female_ratio, bar_width,\n",
    "                 alpha=0.7,\n",
    "                 color='yellowgreen',\n",
    "                 yerr=0,\n",
    "                 label='Women')\n",
    "\n",
    "\n",
    "plt.ylabel('Ratio')\n",
    "plt.xlabel('Age Groups')\n",
    "plt.title('Survival Rate Across Gender and Age')\n",
    "plt.xticks(index + bar_width, (titanic_survival_rate_corrected.index), fontsize=9)\n",
    "plt.legend(loc = 'best', bbox_to_anchor=(1, 0.5))\n",
    "plt.yticks(np.arange(0, 1.1, 0.1))\n",
    "plt.tight_layout()\n"
   ]
  },
  {
   "cell_type": "markdown",
   "metadata": {},
   "source": [
    "As can be seen from the chart above, without any exceptions, males had lower survival rates in all of the age groups. The gap seems to be somewhat smaller in the 0 - 18 years age group, which we previously identified as being likely to have some sort of privilage in the evacuation."
   ]
  },
  {
   "cell_type": "markdown",
   "metadata": {},
   "source": [
    "## Summary"
   ]
  },
  {
   "cell_type": "markdown",
   "metadata": {},
   "source": [
    "During our analyses, I tried investigate three hypotheses:\n",
    "\n",
    "**1- Did the age affect the survival rates of the passengers?**\n",
    "\n",
    "Here, I built several age groups and calculated the survival rate for each one of them. I was particularly interested in seeing whether the youngest and the oldest age groups got any sort of privilage in the evacuation. \n",
    "I came to the conclusion that this is likely not the case for the age group 65 or above, since they had the lowest survival rate with 10%. \n",
    "On the other hand, the age group 0 - 18 years had the highest survival rate (also particularly higher than any other group) with 50%. I then investigated even further by looking at the average age of this group and found out that it is roughly 11 years. Therefore I stated that it is very likely that this group got some sort of privilage/priority on the evacuation. \n",
    "However for both groups, I cannot say for certain that the age was the deciding factor. First of all, above 65 years age group had only 11 members, which is really low. Therefore the rate could also be by chance. On the other hand, 0 - 18 years group could also have gotten lucky in the evacuation and managed to save themselves without any privilage.\n",
    "\n",
    "Another limitation, especially for this hypothesis was the vast number of missing values for the age column. From 891 passengers, 177 had a missing age value. Once adding those values to the analysis, we might end up having quite different results. \n",
    "\n",
    "\n",
    "**2- Did the wellfare affect the survival rates of the passengers?**\n",
    "\n",
    "Here, I assumed the ticket classes of the passengers as an indicator of their wellfare and then calculated the survival/non survival rate of each ticket class. First class ticket owners had the highest survival rate with approx. 63% whereas the third class ticket owners had the lowest one with approx. 24%. \n",
    "Based on this analysis we could say that the survival rates clearly go higher as the tickets get more expensive, however we cannot name this as the pure reason of survival. \n",
    "First of all, the assumption that the ticket classes being an indicator of the wellfare might very well not hold true. The passengers could have gotten the ticket as a gift or they could have allowed themselves something expensive for once. On the other hand, without analysing the demographics of the the ticket ownners as well as other factors, we cannot say that the ticket class caused the higher survival rate. For e.g. it might be that the 0 - 18 age group indeed got some priority on the evacuation and they just happened to be owning the majority of the first class tickets.\n",
    "\n",
    "\n",
    "**3- Did the gender and age combination affect the survival rates of the passengers?**\n",
    "\n",
    "Here, I first took a look at the general distribution of gender among passengers and ound out that 35% were females and 65% were males. I then calculated the general survival rate for both gender and found out that 74% of the females and 19% of the males survived. I then also used the age groups as a 2nd dimension to see how the genders fared in different age groups. In all of the groups, the females had a significantly higher survival rate than the males. The gap seems to be somewhat closer in 0 - 18 years group, but it is still quite large.\n",
    "Like the other two hypothesis, this analysis enable us to say that the females had quite higher survival rates however we cannot say for sure that being female here caused the higher survival rate without looking at the other factors.  \n",
    "\n",
    "For all of the hypotheses, we need to keep in mind that we only worked with a sample dataset and not the entire population. Once analysing the entire population, we might end up having completly different results. \n",
    "\n",
    "For this data set, it would be really interesting to analyse the survival rate of the crew against the passengers. The current dataset doesn't differentiate between those 2 groups. On the other hand, it might also be interesting to see the data for the each rescue boat. This way, we could investigate better whether some demographic groups indeed got some privilage."
   ]
  }
 ],
 "metadata": {
  "anaconda-cloud": {},
  "kernelspec": {
   "display_name": "Python [conda env:DAND]",
   "language": "python",
   "name": "conda-env-DAND-py"
  },
  "language_info": {
   "codemirror_mode": {
    "name": "ipython",
    "version": 2
   },
   "file_extension": ".py",
   "mimetype": "text/x-python",
   "name": "python",
   "nbconvert_exporter": "python",
   "pygments_lexer": "ipython2",
   "version": "2.7.12"
  }
 },
 "nbformat": 4,
 "nbformat_minor": 2
}
